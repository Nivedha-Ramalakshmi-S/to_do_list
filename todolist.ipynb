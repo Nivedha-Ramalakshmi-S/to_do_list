{
 "cells": [
  {
   "cell_type": "code",
   "execution_count": 5,
   "id": "6af70481",
   "metadata": {},
   "outputs": [],
   "source": [
    "# Python program to demonstrate\n",
    "# scale widget\n",
    "\n",
    "import tkinter as tk\n",
    "root = Tk()\n",
    "root.geometry(\"500x400\")\n",
    "root.title(\"TodOlist\")\n",
    "label = Label(root, text =\"Enter your task\").pack()\n",
    "task=tk.StringVar()\n",
    "idd=tk.StringVar()\n",
    "tasklist = []\n",
    "def submit():\n",
    "    global n\n",
    "    n=text_box.size()\n",
    "    n = n+1\n",
    "    number = str(n)\n",
    "    name = task.get()\n",
    "    list = '['+ number +']'+name+'\\n'\n",
    "    tasklist.append(list)\n",
    "    text_box.insert('end',list)\n",
    "    n = int(number)\n",
    "    task.set(\"\")\n",
    "    \n",
    "def delete():    \n",
    "    idnum=int(idd.get())\n",
    "    p=idnum-1\n",
    "    text_box.delete(p)\n",
    "    s=text_box.size()\n",
    "    for i in range(p,s):\n",
    "        a = text_box.get(i)\n",
    "        val=int(a[1])\n",
    "        m=str(val-1)\n",
    "        a = a[:1] + m + a[2:]\n",
    "        text_box.delete(i)\n",
    "        text_box.insert(i,a)\n",
    "    idd.set(\"\")\n",
    "    \n",
    "ent = Entry(root,textvariable = task).pack()\n",
    "btn = Button(root, text = 'Submit',command = submit)\n",
    "btn.pack(side = 'top', pady = '5') \n",
    "text_box = Listbox(root, height = 10, width = 25,)\n",
    "text_box.pack()\n",
    "label2 = Label(root, text =\"Delete task number\", pady = '7').pack()\n",
    "ent2 = Entry(root,textvariable = idd, width = 5).pack()\n",
    "btn = Button(root, text = 'delete',command = delete)\n",
    "btn.pack(side = 'top', pady = '5')\n",
    "btn = Button(root, text = 'Exit',command = root.destroy)\n",
    "btn.pack(side = 'top', pady = '5')\n",
    "root.mainloop()\n"
   ]
  },
  {
   "cell_type": "code",
   "execution_count": 3,
   "id": "78e95903",
   "metadata": {},
   "outputs": [],
   "source": []
  },
  {
   "cell_type": "code",
   "execution_count": null,
   "id": "9bc7391b",
   "metadata": {},
   "outputs": [],
   "source": []
  },
  {
   "cell_type": "code",
   "execution_count": null,
   "id": "c7e45deb",
   "metadata": {},
   "outputs": [],
   "source": []
  },
  {
   "cell_type": "code",
   "execution_count": null,
   "id": "eb1fddf6",
   "metadata": {},
   "outputs": [],
   "source": []
  },
  {
   "cell_type": "code",
   "execution_count": null,
   "id": "de5c8460",
   "metadata": {},
   "outputs": [],
   "source": []
  },
  {
   "cell_type": "code",
   "execution_count": null,
   "id": "3681eedd",
   "metadata": {},
   "outputs": [],
   "source": []
  },
  {
   "cell_type": "code",
   "execution_count": null,
   "id": "fbcd5fc4",
   "metadata": {},
   "outputs": [],
   "source": []
  },
  {
   "cell_type": "code",
   "execution_count": null,
   "id": "1e7ca3a6",
   "metadata": {},
   "outputs": [],
   "source": []
  }
 ],
 "metadata": {
  "kernelspec": {
   "display_name": "Python 3",
   "language": "python",
   "name": "python3"
  },
  "language_info": {
   "codemirror_mode": {
    "name": "ipython",
    "version": 3
   },
   "file_extension": ".py",
   "mimetype": "text/x-python",
   "name": "python",
   "nbconvert_exporter": "python",
   "pygments_lexer": "ipython3",
   "version": "3.8.8"
  }
 },
 "nbformat": 4,
 "nbformat_minor": 5
}
